{
 "cells": [
  {
   "cell_type": "code",
   "execution_count": 1,
   "metadata": {},
   "outputs": [],
   "source": [
    "\n",
    "    refs =\\\n",
    "[ibis]: https://www.ibis-project.org/\n",
    "[SQL]: https://en.wikipedia.org/wiki/SQL\n",
    "[Python]: https://en.wikipedia.org/wiki/Python_(programming_language)\n",
    "[flavor of sql]: https://stackoverflow.com/questions/1326318/difference-between-different-types-of-sql\n",
    "[design]: https://docs.ibis-project.org/design.html\n",
    "[sqlite]: https://www.sqlite.org/index.html\n",
    "[pandas]: http://pandas.pydata.org/\n",
    "[omnisci]: https://www.omnisci.com/\n",
    "[glue]: https://docs.scipy.org/doc/numpy/user/c-info.python-as-glue.html\n",
    "[dask]: https://dask.org/\n",
    "[flavor of sql]: https://stackoverflow.com/questions/1326318/difference-between-different-types-of-sql\n",
    "[dag]: https://en.wikipedia.org/wiki/Directed_acyclic_graph\n",
    "[data]: http://www.seanlahman.com/baseball-archive/statistics/    \n",
    "[database connection]: https://en.wikipedia.org/wiki/Database_connection\n",
    "[tidy data]: https://vita.had.co.nz/papers/tidy-data.pdf\n",
    "[openteams]: https://openteams.com/\n",
    "[contributing]: https://docs.ibis-project.org/contributing.html\n",
    "[qs]: https://www.quansight.com/\n",
    "[graphviz]: https://graphviz.org\n",
    "[materialized view]: https://en.wikipedia.org/wiki/Materialized_view"
   ]
  },
  {
   "cell_type": "code",
   "execution_count": 2,
   "metadata": {},
   "outputs": [
    {
     "data": {
      "text/markdown": [
       "    import ibis\n",
       "    \n",
       "<!-- END_TEASER -->"
      ],
      "text/plain": [
       "<IPython.core.display.Markdown object>"
      ]
     },
     "metadata": {},
     "output_type": "display_data"
    }
   ],
   "source": [
    "    import ibis\n",
    "    \n",
    "<!-- END_TEASER -->"
   ]
  },
  {
   "cell_type": "code",
   "execution_count": 3,
   "metadata": {},
   "outputs": [],
   "source": [
    "  \n",
    "    if 'repo' not in locals():\n",
    "        repo = __import__('requests').get('https://api.github.com/repos/ibis-project/ibis').json()\n",
    "    image = lambda *x: HTML(\"\"\"<div class=\"imageflex\" style=\"display:flex;\">%s</div>\"\"\"%''.join(F'''<img src=\"data:image/png;base64,{base64.b64encode(x._repr_png_()).decode()}\"/>''' for x in x))\n",
    "    raw = lambda *x: HTML(\"\"\"<div style=\"display:flex;\">%s</div>\"\"\"%''.join(F'''<img src=\"data:image/png;base64,{base64.b64encode(x).decode()}\"/>''' for x in x))\n",
    "    %matplotlib agg\n",
    "    import graphviz, pytest, ibis\n",
    "    \n",
    "<style>\n",
    ".imageflex:hover img {transform: scale(.8); max-height: 80%;}\n",
    ".imageflex img {transform: scale(.3); max-height: 400px;}\n",
    "</style>"
   ]
  },
  {
   "cell_type": "code",
   "execution_count": 4,
   "metadata": {},
   "outputs": [
    {
     "data": {
      "text/markdown": [
       "![](https://avatars3.githubusercontent.com/u/27442526?v=4)"
      ],
      "text/plain": [
       "<IPython.core.display.Markdown object>"
      ]
     },
     "metadata": {},
     "output_type": "display_data"
    }
   ],
   "source": [
    "![]({{repo['owner']['avatar_url']}})"
   ]
  },
  {
   "cell_type": "code",
   "execution_count": 5,
   "metadata": {},
   "outputs": [
    {
     "data": {
      "text/markdown": [
       "    import ibis, pandas, dask, pandas as 🐼, pytest, base64"
      ],
      "text/plain": [
       "<IPython.core.display.Markdown object>"
      ]
     },
     "metadata": {},
     "output_type": "display_data"
    }
   ],
   "source": [
    "    import ibis, pandas, dask, pandas as 🐼, pytest, base64"
   ]
  },
  {
   "cell_type": "code",
   "execution_count": 6,
   "metadata": {},
   "outputs": [
    {
     "data": {
      "text/markdown": [
       "[`ibis`][ibis] is mature open source project that has been in development for __~5__\n",
       "years with __1345__ ⭐️gazers.\n",
       "It provides an interface to SQL for [Python] programmers and \n",
       "bridges the gap between remote storage & execution systems.\n",
       "These features provide authors the ability to:\n",
       "\n",
       "1. Write backend independent [SQL] expressions in [Python].\n",
       "2. Access different database connections (eg. [sqlite], [omnisci], [pandas]).\n",
       "3. Visually confirm their SQL queries with [directed acyclic graphs (DAG)][dag].\n",
       "\n",
       "\n",
       "[`ibis`][ibis] is an alternative approach using databases that relies [Python] rather than [SQL] experience.\n",
       "Typically, folks would have to learn entirely new syntax,\n",
       "or a [flavor of SQL], to perform simple tasks.\n",
       "Now, those with Python abilities can avoid a steep learning curve\n",
       "by using [`ibis`][ibis] for composing and executing expressions in [SQL]\n",
       "using familiar syntaxes like [`pandas`][pandas] and [`dask`][dask]. \n",
       "[`ibis`][ibis] also assists in forming [SQL] expressions by providing visual feedback about each [Python] object.\n",
       "\n",
       "This blog focuses on __writing [SQL] expressions in [Python]__ and how to compose queries using [`ibis`][ibis] visually.\n",
       "We’ll demonstrate the features using [SQLite] and [Sean Lahman’s baseball database][data]. \n",
       "\n",
       "[ibis]: https://www.ibis-project.org/\n",
       "[SQL]: https://en.wikipedia.org/wiki/SQL\n",
       "[Python]: https://en.wikipedia.org/wiki/Python_(programming_language)\n",
       "[flavor of sql]: https://stackoverflow.com/questions/1326318/difference-between-different-types-of-sql\n",
       "[design]: https://docs.ibis-project.org/design.html\n",
       "[sqlite]: https://www.sqlite.org/index.html\n",
       "[pandas]: http://pandas.pydata.org/\n",
       "[omnisci]: https://www.omnisci.com/\n",
       "[glue]: https://docs.scipy.org/doc/numpy/user/c-info.python-as-glue.html\n",
       "[dask]: https://dask.org/\n",
       "[flavor of sql]: https://stackoverflow.com/questions/1326318/difference-between-different-types-of-sql\n",
       "[dag]: https://en.wikipedia.org/wiki/Directed_acyclic_graph\n",
       "[data]: http://www.seanlahman.com/baseball-archive/statistics/    \n",
       "[database connection]: https://en.wikipedia.org/wiki/Database_connection\n",
       "[tidy data]: https://vita.had.co.nz/papers/tidy-data.pdf\n",
       "[openteams]: https://openteams.com/\n",
       "[contributing]: https://docs.ibis-project.org/contributing.html\n",
       "[qs]: https://www.quansight.com/\n",
       "[graphviz]: https://graphviz.org\n",
       "[materialized view]: https://en.wikipedia.org/wiki/Materialized_view"
      ],
      "text/plain": [
       "<IPython.core.display.Markdown object>"
      ]
     },
     "metadata": {},
     "output_type": "display_data"
    }
   ],
   "source": [
    "[`ibis`][ibis] is mature open source project that has been in development for __~{{((_panda_face_.to_datetime('now').tz_localize('utc')-_panda_face_.to_datetime(repo['created_at'])).days/365).__round__()}}__\n",
    "years with __{{repo['stargazers_count']}}__ ⭐️gazers.\n",
    "It provides an interface to SQL for [Python] programmers and \n",
    "bridges the gap between remote storage & execution systems.\n",
    "These features provide authors the ability to:\n",
    "\n",
    "1. Write backend independent [SQL] expressions in [Python].\n",
    "2. Access different database connections (eg. [sqlite], [omnisci], [pandas]).\n",
    "3. Visually confirm their SQL queries with [directed acyclic graphs (DAG)][dag].\n",
    "\n",
    "\n",
    "[`ibis`][ibis] is an alternative approach using databases that relies [Python] rather than [SQL] experience.\n",
    "Typically, folks would have to learn entirely new syntax,\n",
    "or a [flavor of SQL], to perform simple tasks.\n",
    "Now, those with Python abilities can avoid a steep learning curve\n",
    "by using [`ibis`][ibis] for composing and executing expressions in [SQL]\n",
    "using familiar syntaxes like [`pandas`][pandas] and [`dask`][dask]. \n",
    "[`ibis`][ibis] also assists in forming [SQL] expressions by providing visual feedback about each [Python] object.\n",
    "\n",
    "This blog focuses on __writing [SQL] expressions in [Python]__ and how to compose queries using [`ibis`][ibis] visually.\n",
    "We’ll demonstrate the features using [SQLite] and [Sean Lahman’s baseball database][data]. \n",
    "\n",
    "{{refs}}"
   ]
  },
  {
   "cell_type": "code",
   "execution_count": 7,
   "metadata": {},
   "outputs": [
    {
     "data": {
      "text/markdown": [
       "## Connecting to a database.\n",
       "\n",
       "Getting started, we’ll need to establish a [database connection]. [`ibis`][ibis] makes it easy to create different connections.\n",
       "\n",
       "    client = ibis.sqlite.connect('lahmansbaseballdb.sqlite')\n",
       "    \n",
       "<br/>\n",
       "    \n",
       "The `client` variable represents our connection to the database.\n",
       "The [baseball database][data] has __29__ tables, \n",
       "which we can see by running the following code snippet:\n",
       "\n",
       "    >>> client.list_tables()\n",
       "    [...'appearances'...'halloffame', 'homegames', 'leagues', 'managers',...]\n",
       "\n",
       "---\n",
       "\n",
       ">> It will be essential to use the correct [`ibis`][ibis] `client` for the file types.\n",
       "\n",
       "---\n",
       "\n",
       "[ibis]: https://www.ibis-project.org/\n",
       "[SQL]: https://en.wikipedia.org/wiki/SQL\n",
       "[Python]: https://en.wikipedia.org/wiki/Python_(programming_language)\n",
       "[flavor of sql]: https://stackoverflow.com/questions/1326318/difference-between-different-types-of-sql\n",
       "[design]: https://docs.ibis-project.org/design.html\n",
       "[sqlite]: https://www.sqlite.org/index.html\n",
       "[pandas]: http://pandas.pydata.org/\n",
       "[omnisci]: https://www.omnisci.com/\n",
       "[glue]: https://docs.scipy.org/doc/numpy/user/c-info.python-as-glue.html\n",
       "[dask]: https://dask.org/\n",
       "[flavor of sql]: https://stackoverflow.com/questions/1326318/difference-between-different-types-of-sql\n",
       "[dag]: https://en.wikipedia.org/wiki/Directed_acyclic_graph\n",
       "[data]: http://www.seanlahman.com/baseball-archive/statistics/    \n",
       "[database connection]: https://en.wikipedia.org/wiki/Database_connection\n",
       "[tidy data]: https://vita.had.co.nz/papers/tidy-data.pdf\n",
       "[openteams]: https://openteams.com/\n",
       "[contributing]: https://docs.ibis-project.org/contributing.html\n",
       "[qs]: https://www.quansight.com/\n",
       "[graphviz]: https://graphviz.org\n",
       "[materialized view]: https://en.wikipedia.org/wiki/Materialized_view"
      ],
      "text/plain": [
       "<IPython.core.display.Markdown object>"
      ]
     },
     "metadata": {},
     "output_type": "display_data"
    }
   ],
   "source": [
    "## Connecting to a database.\n",
    "\n",
    "Getting started, we’ll need to establish a [database connection]. [`ibis`][ibis] makes it easy to create different connections.\n",
    "\n",
    "    client = ibis.sqlite.connect('lahmansbaseballdb.sqlite')\n",
    "    \n",
    "<br/>\n",
    "    \n",
    "The `client` variable represents our connection to the database.\n",
    "The [baseball database][data] has __{{client.list_tables().__len__()}}__ tables, \n",
    "which we can see by running the following code snippet:\n",
    "\n",
    "    >>> client.list_tables()\n",
    "    [...'appearances'...'halloffame', 'homegames', 'leagues', 'managers',...]\n",
    "\n",
    "---\n",
    "\n",
    ">> It will be essential to use the correct [`ibis`][ibis] `client` for the file types.\n",
    "\n",
    "---\n",
    "\n",
    "{{refs}}"
   ]
  },
  {
   "cell_type": "code",
   "execution_count": 8,
   "metadata": {},
   "outputs": [
    {
     "data": {
      "text/html": [
       "<div class=\"imageflex\" style=\"display:flex;\"><img src=\"data:image/png;base64,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\"/><img src=\"data:image/png;base64,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\"/></div>"
      ],
      "text/plain": [
       "<IPython.core.display.HTML object>"
      ]
     },
     "metadata": {},
     "output_type": "display_data"
    },
    {
     "data": {
      "text/html": [
       "<div>\n",
       "<style scoped>\n",
       "    .dataframe tbody tr th:only-of-type {\n",
       "        vertical-align: middle;\n",
       "    }\n",
       "\n",
       "    .dataframe tbody tr th {\n",
       "        vertical-align: top;\n",
       "    }\n",
       "\n",
       "    .dataframe thead th {\n",
       "        text-align: right;\n",
       "    }\n",
       "</style>\n",
       "<table border=\"1\" class=\"dataframe\">\n",
       "  <thead>\n",
       "    <tr style=\"text-align: right;\">\n",
       "      <th></th>\n",
       "      <th>ID</th>\n",
       "      <th>playerID</th>\n",
       "      <th>yearid</th>\n",
       "      <th>votedBy</th>\n",
       "      <th>ballots</th>\n",
       "      <th>needed</th>\n",
       "      <th>votes</th>\n",
       "      <th>inducted</th>\n",
       "      <th>category</th>\n",
       "      <th>needed_note</th>\n",
       "    </tr>\n",
       "  </thead>\n",
       "  <tbody>\n",
       "    <tr>\n",
       "      <th>0</th>\n",
       "      <td>1</td>\n",
       "      <td>cobbty01</td>\n",
       "      <td>1936</td>\n",
       "      <td>BBWAA</td>\n",
       "      <td>226</td>\n",
       "      <td>170</td>\n",
       "      <td>222</td>\n",
       "      <td>Y</td>\n",
       "      <td>Player</td>\n",
       "      <td>None</td>\n",
       "    </tr>\n",
       "    <tr>\n",
       "      <th>1</th>\n",
       "      <td>2</td>\n",
       "      <td>ruthba01</td>\n",
       "      <td>1936</td>\n",
       "      <td>BBWAA</td>\n",
       "      <td>226</td>\n",
       "      <td>170</td>\n",
       "      <td>215</td>\n",
       "      <td>Y</td>\n",
       "      <td>Player</td>\n",
       "      <td>None</td>\n",
       "    </tr>\n",
       "    <tr>\n",
       "      <th>2</th>\n",
       "      <td>3</td>\n",
       "      <td>wagneho01</td>\n",
       "      <td>1936</td>\n",
       "      <td>BBWAA</td>\n",
       "      <td>226</td>\n",
       "      <td>170</td>\n",
       "      <td>215</td>\n",
       "      <td>Y</td>\n",
       "      <td>Player</td>\n",
       "      <td>None</td>\n",
       "    </tr>\n",
       "    <tr>\n",
       "      <th>3</th>\n",
       "      <td>4</td>\n",
       "      <td>mathech01</td>\n",
       "      <td>1936</td>\n",
       "      <td>BBWAA</td>\n",
       "      <td>226</td>\n",
       "      <td>170</td>\n",
       "      <td>205</td>\n",
       "      <td>Y</td>\n",
       "      <td>Player</td>\n",
       "      <td>None</td>\n",
       "    </tr>\n",
       "    <tr>\n",
       "      <th>4</th>\n",
       "      <td>5</td>\n",
       "      <td>johnswa01</td>\n",
       "      <td>1936</td>\n",
       "      <td>BBWAA</td>\n",
       "      <td>226</td>\n",
       "      <td>170</td>\n",
       "      <td>189</td>\n",
       "      <td>Y</td>\n",
       "      <td>Player</td>\n",
       "      <td>None</td>\n",
       "    </tr>\n",
       "  </tbody>\n",
       "</table>\n",
       "</div>"
      ],
      "text/plain": [
       "   ID   playerID  yearid votedBy  ballots  needed  votes inducted category  \\\n",
       "0   1   cobbty01    1936   BBWAA      226     170    222        Y   Player   \n",
       "1   2   ruthba01    1936   BBWAA      226     170    215        Y   Player   \n",
       "2   3  wagneho01    1936   BBWAA      226     170    215        Y   Player   \n",
       "3   4  mathech01    1936   BBWAA      226     170    205        Y   Player   \n",
       "4   5  johnswa01    1936   BBWAA      226     170    189        Y   Player   \n",
       "\n",
       "  needed_note  \n",
       "0        None  \n",
       "1        None  \n",
       "2        None  \n",
       "3        None  \n",
       "4        None  "
      ]
     },
     "execution_count": 8,
     "metadata": {},
     "output_type": "execute_result"
    },
    {
     "data": {
      "text/markdown": [
       "## Selecting and visualizing tables.\n",
       "\n",
       "We can now create a data frame from [ibis] expressions similar to the example above.\n",
       "To demonstrate some of [`ibis`][ibis]’s capabilities,\n",
       "we’ll discuss information in the `halloffame` and `appearances` tables.\n",
       "Let's create the tables now.\n",
       "\n",
       "    halloffame, appearances = client.table('halloffame'), client.table('appearances')\n",
       "\n",
       "<br/>\n",
       "A useful feature of Ibis is its [DAG] representation of our [SQL] query using [`graphviz`][graphviz].\n",
       "[`dask`][dask] users will be familiar with this feature.\n",
       "\n",
       "<!--\n",
       "\n",
       "    return image(halloffame, appearances)\n",
       "    \n",
       "-->\n",
       "\n",
       "\n",
       "At the moment, the table doesn’t hold any data;\n",
       "instead, it’s an expression used to manipulate data in the SQLite database.\n",
       "We can assert this as follows:\n",
       "    \n",
       "    >>> assert isinstance(halloffame, ibis.expr.types.TableExpr)\n",
       "\n",
       "    sample = halloffame.head()\n",
       "    \n",
       "Looking at a `sample` expression we can reveal the SQL query we constructed.\n",
       "    \n",
       "    >>> str(sample.compile())\n",
       "    'SELECT t0.\"ID\", t0.\"playerID\",...FROM base.halloffame AS t0...LIMIT ? OFFSET ?'\n",
       "    \n",
       "And we can execute the expression to return a [tidy `pandas.DataFrame`][tidy data].\n",
       "    \n",
       "    >>> assert isinstance(sample.execute(), pandas.DataFrame)\n",
       "\n",
       "    sample.execute()\n",
       "    "
      ],
      "text/plain": [
       "<IPython.core.display.Markdown object>"
      ]
     },
     "metadata": {},
     "output_type": "display_data"
    }
   ],
   "source": [
    "## Selecting and visualizing tables.\n",
    "\n",
    "We can now create a data frame from [ibis] expressions similar to the example above.\n",
    "To demonstrate some of [`ibis`][ibis]’s capabilities,\n",
    "we’ll discuss information in the `halloffame` and `appearances` tables.\n",
    "Let's create the tables now.\n",
    "\n",
    "    halloffame, appearances = client.table('halloffame'), client.table('appearances')\n",
    "\n",
    "<br/>\n",
    "A useful feature of Ibis is its [DAG] representation of our [SQL] query using [`graphviz`][graphviz].\n",
    "[`dask`][dask] users will be familiar with this feature.\n",
    "\n",
    "<!--\n",
    "\n",
    "    return image(halloffame, appearances)\n",
    "    \n",
    "-->\n",
    "\n",
    "\n",
    "At the moment, the table doesn’t hold any data;\n",
    "instead, it’s an expression used to manipulate data in the SQLite database.\n",
    "We can assert this as follows:\n",
    "    \n",
    "    >>> assert isinstance(halloffame, ibis.expr.types.TableExpr)\n",
    "\n",
    "    sample = halloffame.head()\n",
    "    \n",
    "Looking at a `sample` expression we can reveal the SQL query we constructed.\n",
    "    \n",
    "    >>> str(sample.compile())\n",
    "    'SELECT t0.\"ID\", t0.\"playerID\",...FROM base.halloffame AS t0...LIMIT ? OFFSET ?'\n",
    "    \n",
    "And we can execute the expression to return a [tidy `pandas.DataFrame`][tidy data].\n",
    "    \n",
    "    >>> assert isinstance(sample.execute(), pandas.DataFrame)\n",
    "\n",
    "    sample.execute()\n",
    "    "
   ]
  },
  {
   "cell_type": "code",
   "execution_count": 9,
   "metadata": {},
   "outputs": [
    {
     "data": {
      "text/html": [
       "<div class=\"imageflex\" style=\"display:flex;\"><img src=\"data:image/png;base64,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\"/></div>"
      ],
      "text/plain": [
       "<IPython.core.display.HTML object>"
      ]
     },
     "metadata": {},
     "output_type": "display_data"
    },
    {
     "data": {
      "text/markdown": [
       "## Filtering and selecting data.\n",
       "\n",
       "[ibis] uses familiar [pandas] syntax to build [SQL] queries.\n",
       "Our first selection will `filter` the `players` from our data by applying the \n",
       "predicate to the `halloffame` expression.\n",
       "    \n",
       "    predicate = halloffame.category == 'Player'\n",
       "    players = halloffame[predicate]\n",
       "    \n",
       "<!--\n",
       "\n",
       "    return image(players)\n",
       "\n",
       "-->\n",
       "\n",
       "[ibis]: https://www.ibis-project.org/\n",
       "[SQL]: https://en.wikipedia.org/wiki/SQL\n",
       "[Python]: https://en.wikipedia.org/wiki/Python_(programming_language)\n",
       "[flavor of sql]: https://stackoverflow.com/questions/1326318/difference-between-different-types-of-sql\n",
       "[design]: https://docs.ibis-project.org/design.html\n",
       "[sqlite]: https://www.sqlite.org/index.html\n",
       "[pandas]: http://pandas.pydata.org/\n",
       "[omnisci]: https://www.omnisci.com/\n",
       "[glue]: https://docs.scipy.org/doc/numpy/user/c-info.python-as-glue.html\n",
       "[dask]: https://dask.org/\n",
       "[flavor of sql]: https://stackoverflow.com/questions/1326318/difference-between-different-types-of-sql\n",
       "[dag]: https://en.wikipedia.org/wiki/Directed_acyclic_graph\n",
       "[data]: http://www.seanlahman.com/baseball-archive/statistics/    \n",
       "[database connection]: https://en.wikipedia.org/wiki/Database_connection\n",
       "[tidy data]: https://vita.had.co.nz/papers/tidy-data.pdf\n",
       "[openteams]: https://openteams.com/\n",
       "[contributing]: https://docs.ibis-project.org/contributing.html\n",
       "[qs]: https://www.quansight.com/\n",
       "[graphviz]: https://graphviz.org\n",
       "[materialized view]: https://en.wikipedia.org/wiki/Materialized_view"
      ],
      "text/plain": [
       "<IPython.core.display.Markdown object>"
      ]
     },
     "metadata": {},
     "output_type": "display_data"
    }
   ],
   "source": [
    "## Filtering and selecting data.\n",
    "\n",
    "[ibis] uses familiar [pandas] syntax to build [SQL] queries.\n",
    "Our first selection will `filter` the `players` from our data by applying the \n",
    "predicate to the `halloffame` expression.\n",
    "    \n",
    "    predicate = halloffame.category == 'Player'\n",
    "    players = halloffame[predicate]\n",
    "    \n",
    "<!--\n",
    "\n",
    "    return image(players)\n",
    "\n",
    "-->\n",
    "\n",
    "{{refs}}"
   ]
  },
  {
   "cell_type": "code",
   "execution_count": null,
   "metadata": {},
   "outputs": [],
   "source": [
    "## Joining [`ibis`][ibis] tables.\n",
    "\n",
    "A single view of the `halloffame` players and `appearances` requires us to join the two tables. \n",
    "To do this, we’ll perform an inner join based on the __playerID__ column.\n",
    "\n",
    "    predicate = players.playerID == appearances.playerID\n",
    "    \n",
    "These tables share columns, but SQL doesn't handle overlapping columns very well.\n",
    "To resolve this potential conflict, we will iterate over the \n",
    "columns in the appearances table and select on the columns not in the players table.\n",
    "Then we will compose the join.\n",
    "    \n",
    "    columns = [x for x in appearances.columns if x not in {'playerID', 'ID'}]\n",
    "    \n",
    "Composing the join.\n",
    "    \n",
    "    unmaterialized = players.join(appearances[columns], predicate)\n",
    "    \n",
    "---\n",
    "\n",
    "Joins, in databases, require a [materialized view] to proceed with building expressions.\n",
    "With `ibis` this is just details because we can use the __materialize__ METHOD.\n",
    "\n",
    "---\n",
    "\n",
    "    join = unmaterialized.materialize()\n",
    "    \n",
    "    with pytest.raises(ibis.IbisError): unmaterialized.distinct()\n",
    "    \n",
    "    join = join.materialize().distinct()  # like 🐼.DataFrame.drop_duplicates\n",
    "\n",
    "Below is a sample of our joined data. \n",
    "\n",
    "{{join.head().execute().to_html()}}\n",
    "\n",
    "\n",
    "<!--\n",
    "\n",
    "    return image(unmaterialized, join)\n",
    "\n",
    "-->\n",
    "\n",
    "{{refs}}"
   ]
  },
  {
   "cell_type": "code",
   "execution_count": null,
   "metadata": {},
   "outputs": [],
   "source": [
    "<hr/>\n",
    "\n",
    "[`ibis`][ibis] supports other join strategies.\n",
    "\n",
    "    >>> [x for x in dir(players) if 'join' in x]\n",
    "    ['anti_join', 'any_inner_join', 'any_left_join', 'asof_join', 'cross_join', 'inner_join', 'join', 'left_join', 'outer_join', 'semi_join']\n",
    "\n",
    "<hr/>"
   ]
  },
  {
   "cell_type": "code",
   "execution_count": null,
   "metadata": {},
   "outputs": [],
   "source": [
    "{{df.unstack(0)['count'].T.fillna('-').to_html()}}\n",
    "\n",
    "## How many pitchers have been inducted into the hall of fame?\n",
    "\n",
    "Some hitters may have also pitched, so we’ll need to filter out those appearances.\n",
    "\n",
    "    pitchers = join[join.G_p > 100]\n",
    "\n",
    "Group the `pitchers` based on a predicate.\n",
    "    \n",
    "    predicate = [pitchers.inducted, pitchers.yearID]\n",
    "    \n",
    "And count them annually.\n",
    "    \n",
    "    grouped_pitchers = pitchers.groupby(predicate).count()\n",
    "    \n",
    "    df = grouped_pitchers.execute().set_index('inducted yearID'.split())\n",
    "    \n",
    "    \n",
    "<!--\n",
    "    \n",
    "    fig = df.loc['Y']['count'].pipe(\n",
    "        lambda df: df.reindex(range(df.index.min(), df.index.max())).fillna(0)\n",
    "    ).rename('Inducted pitchers').plot.bar(figsize=(15, 5), grid=True)\n",
    "\n",
    "    \n",
    "    fig = __import__('io').BytesIO()\n",
    "    __import__('matplotlib').pyplot.savefig(fig)\n",
    "    return raw(fig.getvalue())\n",
    "    \n",
    "-->\n",
    "\n",
    "{{refs}}"
   ]
  },
  {
   "cell_type": "code",
   "execution_count": null,
   "metadata": {},
   "outputs": [],
   "source": [
    "## What next?\n",
    "\n",
    "In future posts, we’ll explore more backends and visualizing ibis objects.\n",
    "If you’d like to contribute to ibis, please take a look at [OpenTeams] or the [ibis contributing guide][contributing].\n",
    "\n",
    "{{refs}}"
   ]
  }
 ],
 "metadata": {
  "kernelspec": {
   "display_name": "pidgy 3",
   "language": "python",
   "name": "pidgy"
  },
  "language_info": {
   "codemirror_mode": {
    "name": "ipython",
    "version": 3
   },
   "file_extension": ".py",
   "mimetype": "text/x-python",
   "name": "python",
   "nbconvert_exporter": "python",
   "pygments_lexer": "ipython3",
   "version": "3.7.3"
  },
  "nikola": {
   "category": "",
   "date": "2020-04-02 10:28:29 UTC-04:00",
   "description": "",
   "link": "",
   "slug": "ibis-an-idiomatic-flavor-of-sql-for-python-programmers",
   "tags": "",
   "title": "ibis - an idiomatic flavor of SQL for Python programmers.",
   "type": "text"
  }
 },
 "nbformat": 4,
 "nbformat_minor": 4
}
