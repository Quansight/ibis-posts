{
 "cells": [
  {
   "cell_type": "code",
   "execution_count": 2,
   "metadata": {},
   "outputs": [
    {
     "data": {
      "text/markdown": [
       "# `ibis` a pythonic query language.\n",
       "\n",
       "    import ibis.omniscidb, dask, intake, sqlalchemy, pandas, pyarrow as arrow, altair, h5py as hdf5\n",
       "\n",
       "<!--    \n",
       "    \n",
       "    import refs\n",
       "    reload(refs)\n",
       "    from refs import __doc__ as refs\n",
       "    import backends_over_time\n",
       "    over_time = backends_over_time.df.stack().pipe(lambda df: df[df.astype(bool)]).unstack().fillna('')\n",
       "    \n",
       "-->"
      ],
      "text/plain": [
       "<IPython.core.display.Markdown object>"
      ]
     },
     "metadata": {},
     "output_type": "display_data"
    }
   ],
   "source": [
    "# `ibis` a pythonic query language.\n",
    "\n",
    "    import ibis.omniscidb, dask, intake, sqlalchemy, pandas, pyarrow as arrow, altair, h5py as hdf5\n",
    "\n",
    "<!--    \n",
    "    \n",
    "    import refs\n",
    "    reload(refs)\n",
    "    from refs import __doc__ as refs\n",
    "    import backends_over_time\n",
    "    over_time = backends_over_time.df.stack().pipe(lambda df: df[df.astype(bool)]).unstack().fillna('')\n",
    "    \n",
    "-->"
   ]
  },
  {
   "cell_type": "code",
   "execution_count": 3,
   "metadata": {},
   "outputs": [
    {
     "data": {
      "text/markdown": [
       "The design of `ibis`, and other open source projects like `intake` and `dask`, begin with the pioneering \n",
       "`\"blaze\"` ecosystem provided interfaces to _**store, describe, query, and process**_ data.\n",
       "\"blaze\" had ambitious goals and is now defunct, but its influences resonate throughout\n",
       "the scientific python community. `dask` emerged directly from `\"blaze\"`; meanwhile\n",
       "contributors can now be found working on projects like `ibis` and `arrow`. \n",
       "\n",
       "[`ibis`][ibis] took the role of providing a generic query language for data in python, that \n",
       "is independent of the computation.\n",
       "\n",
       "In this document we'll describe the different `ibis` backend architectures and what it means to be independent of compute.\n",
       "\n",
       "[ibis]: https://www.ibis-project.org/\n",
       "[SQL]: https://en.wikipedia.org/wiki/SQL\n",
       "[Python]: https://en.wikipedia.org/wiki/Python_(programming_language)\n",
       "[flavor of sql]: https://stackoverflow.com/questions/1326318/difference-between-different-types-of-sql\n",
       "[design]: https://docs.ibis-project.org/design.html\n",
       "[sqlite]: https://www.sqlite.org/index.html\n",
       "[pandas]: http://pandas.pydata.org/\n",
       "[omnisci]: https://www.omnisci.com/\n",
       "[glue]: https://docs.scipy.org/doc/numpy/user/c-info.python-as-glue.html\n",
       "[dask]: https://dask.org/\n",
       "[flavor of sql]: https://stackoverflow.com/questions/1326318/difference-between-different-types-of-sql\n",
       "[dag]: https://en.wikipedia.org/wiki/Directed_acyclic_graph\n",
       "[data]: http://www.seanlahman.com/baseball-archive/statistics/    \n",
       "[database connection]: https://en.wikipedia.org/wiki/Database_connection\n",
       "[tidy data]: https://vita.had.co.nz/papers/tidy-data.pdf\n",
       "[openteams]: https://openteams.com/\n",
       "[contributing]: https://docs.ibis-project.org/contributing.html\n",
       "[qs]: https://www.quansight.com/\n",
       "[graphviz]: https://graphviz.org\n",
       "[materialized view]: https://en.wikipedia.org/wiki/Materialized_view\n",
       "[blaze]: #\n",
       "[sqlalchemy]: #\n",
       "[backends]: #\n",
       "[intake]: #\n",
       "[arrow]: #\n",
       "[labs-post]: https://labs.quansight.org/blog/2019/07/ibis-python-data-analysis-productivity-framework/\n",
       "[geo-tutorial]: https://github.com/ibis-project/ibis/pull/1991\n",
       "[geo-closed]: https://github.com/ibis-project/ibis/issues?q=label%3Ageospatial+is%3Aclosed\n",
       "[sql-server]: https://github.com/ibis-project/ibis/pull/1997"
      ],
      "text/plain": [
       "<IPython.core.display.Markdown object>"
      ]
     },
     "metadata": {},
     "output_type": "display_data"
    }
   ],
   "source": [
    "The design of `ibis`, and other open source projects like `intake` and `dask`, begin with the pioneering \n",
    "`\"blaze\"` ecosystem provided interfaces to _**store, describe, query, and process**_ data.\n",
    "\"blaze\" had ambitious goals and is now defunct, but its influences resonate throughout\n",
    "the scientific python community. `dask` emerged directly from `\"blaze\"`; meanwhile\n",
    "contributors can now be found working on projects like `ibis` and `arrow`. \n",
    "\n",
    "[`ibis`][ibis] took the role of providing a generic query language for data in python, that \n",
    "is independent of the computation.\n",
    "\n",
    "In this document we'll describe the different `ibis` backend architectures and what it means to be independent of compute.\n",
    "\n",
    "{{refs}}"
   ]
  },
  {
   "cell_type": "code",
   "execution_count": 6,
   "metadata": {},
   "outputs": [
    {
     "data": {
      "text/markdown": [
       "## The design of [`ibis` backends][backends].\n",
       "\n",
       "Currently, `ibis` supports __>10__ backends.\n",
       "    \n",
       "    >>> dir(ibis)\n",
       "    [...HDFS...WebHDFS...bigquery...clickhouse...hdf5...impala...omniscidb...pandas...pyspark...spark...sql...sqlite...]\n",
       "    \n",
       "Each backend implementation, that can be queried with `ibis`, has one of the three following architectures.\n",
       "\n",
       "1. Direct execution backends - `pandas and hdf5`. \n",
       "2. Expression generating backends that create `sqlalchemy` expressions.\n",
       "3. String generating backends - `ibis.bigquery and ibis.omniscidb`\n",
       "\n",
       "In the next few sections we'll unravel some of the different capiabilities of each approach.\n",
       "\n",
       "[ibis]: https://www.ibis-project.org/\n",
       "[SQL]: https://en.wikipedia.org/wiki/SQL\n",
       "[Python]: https://en.wikipedia.org/wiki/Python_(programming_language)\n",
       "[flavor of sql]: https://stackoverflow.com/questions/1326318/difference-between-different-types-of-sql\n",
       "[design]: https://docs.ibis-project.org/design.html\n",
       "[sqlite]: https://www.sqlite.org/index.html\n",
       "[pandas]: http://pandas.pydata.org/\n",
       "[omnisci]: https://www.omnisci.com/\n",
       "[glue]: https://docs.scipy.org/doc/numpy/user/c-info.python-as-glue.html\n",
       "[dask]: https://dask.org/\n",
       "[flavor of sql]: https://stackoverflow.com/questions/1326318/difference-between-different-types-of-sql\n",
       "[dag]: https://en.wikipedia.org/wiki/Directed_acyclic_graph\n",
       "[data]: http://www.seanlahman.com/baseball-archive/statistics/    \n",
       "[database connection]: https://en.wikipedia.org/wiki/Database_connection\n",
       "[tidy data]: https://vita.had.co.nz/papers/tidy-data.pdf\n",
       "[openteams]: https://openteams.com/\n",
       "[contributing]: https://docs.ibis-project.org/contributing.html\n",
       "[qs]: https://www.quansight.com/\n",
       "[graphviz]: https://graphviz.org\n",
       "[materialized view]: https://en.wikipedia.org/wiki/Materialized_view\n",
       "[blaze]: #\n",
       "[sqlalchemy]: #\n",
       "[backends]: #\n",
       "[intake]: #\n",
       "[arrow]: #\n",
       "[labs-post]: https://labs.quansight.org/blog/2019/07/ibis-python-data-analysis-productivity-framework/\n",
       "[geo-tutorial]: https://github.com/ibis-project/ibis/pull/1991\n",
       "[geo-closed]: https://github.com/ibis-project/ibis/issues?q=label%3Ageospatial+is%3Aclosed\n",
       "[sql-server]: https://github.com/ibis-project/ibis/pull/1997"
      ],
      "text/plain": [
       "<IPython.core.display.Markdown object>"
      ]
     },
     "metadata": {},
     "output_type": "display_data"
    }
   ],
   "source": [
    "## The design of [`ibis` backends][backends].\n",
    "\n",
    "Currently, `ibis` supports __>10__ backends.\n",
    "    \n",
    "    >>> dir(ibis)\n",
    "    [...HDFS...WebHDFS...bigquery...clickhouse...hdf5...impala...omniscidb...pandas...pyspark...spark...sql...sqlite...]\n",
    "    \n",
    "Each backend implementation, that can be queried with `ibis`, has one of the three following architectures.\n",
    "\n",
    "1. Direct execution backends - `pandas and hdf5`. \n",
    "2. Expression generating backends that create `sqlalchemy` expressions.\n",
    "3. String generating backends - `ibis.bigquery and ibis.omniscidb`\n",
    "\n",
    "In the next few sections we'll unravel some of the different capiabilities of each approach.\n",
    "\n",
    "{{refs}}"
   ]
  },
  {
   "cell_type": "code",
   "execution_count": 7,
   "metadata": {},
   "outputs": [
    {
     "data": {
      "text/markdown": [
       "## A data-driven history of `ibis` compatability.\n",
       "\n",
       "The table below provides an annual looked at the issues tagged in `ibis` for different backends.\n",
       "\n",
       "<table border=\"1\" class=\"dataframe\">\n",
       "  <thead>\n",
       "    <tr style=\"text-align: right;\">\n",
       "      <th></th>\n",
       "      <th>omnisci</th>\n",
       "      <th>spark</th>\n",
       "      <th>postgres</th>\n",
       "      <th>bigquery</th>\n",
       "      <th>pandas</th>\n",
       "      <th>sqlite</th>\n",
       "      <th>impala</th>\n",
       "      <th>kudu</th>\n",
       "      <th>geospatial</th>\n",
       "      <th>clickhouse</th>\n",
       "      <th>mysql</th>\n",
       "      <th>sqlalchemy</th>\n",
       "    </tr>\n",
       "    <tr>\n",
       "      <th>created_at</th>\n",
       "      <th></th>\n",
       "      <th></th>\n",
       "      <th></th>\n",
       "      <th></th>\n",
       "      <th></th>\n",
       "      <th></th>\n",
       "      <th></th>\n",
       "      <th></th>\n",
       "      <th></th>\n",
       "      <th></th>\n",
       "      <th></th>\n",
       "      <th></th>\n",
       "    </tr>\n",
       "  </thead>\n",
       "  <tbody>\n",
       "    <tr>\n",
       "      <th>2015</th>\n",
       "      <td></td>\n",
       "      <td></td>\n",
       "      <td></td>\n",
       "      <td></td>\n",
       "      <td>2</td>\n",
       "      <td>8</td>\n",
       "      <td>26</td>\n",
       "      <td></td>\n",
       "      <td></td>\n",
       "      <td></td>\n",
       "      <td></td>\n",
       "      <td>7</td>\n",
       "    </tr>\n",
       "    <tr>\n",
       "      <th>2016</th>\n",
       "      <td></td>\n",
       "      <td></td>\n",
       "      <td></td>\n",
       "      <td></td>\n",
       "      <td></td>\n",
       "      <td>1</td>\n",
       "      <td>1</td>\n",
       "      <td></td>\n",
       "      <td></td>\n",
       "      <td></td>\n",
       "      <td></td>\n",
       "      <td>1</td>\n",
       "    </tr>\n",
       "    <tr>\n",
       "      <th>2017</th>\n",
       "      <td></td>\n",
       "      <td></td>\n",
       "      <td>1</td>\n",
       "      <td>1</td>\n",
       "      <td>3</td>\n",
       "      <td></td>\n",
       "      <td></td>\n",
       "      <td></td>\n",
       "      <td></td>\n",
       "      <td>1</td>\n",
       "      <td></td>\n",
       "      <td>1</td>\n",
       "    </tr>\n",
       "    <tr>\n",
       "      <th>2018</th>\n",
       "      <td>7</td>\n",
       "      <td></td>\n",
       "      <td>2</td>\n",
       "      <td>7</td>\n",
       "      <td>10</td>\n",
       "      <td>4</td>\n",
       "      <td>4</td>\n",
       "      <td></td>\n",
       "      <td></td>\n",
       "      <td>4</td>\n",
       "      <td>1</td>\n",
       "      <td></td>\n",
       "    </tr>\n",
       "    <tr>\n",
       "      <th>2019</th>\n",
       "      <td>3</td>\n",
       "      <td>5</td>\n",
       "      <td>4</td>\n",
       "      <td>3</td>\n",
       "      <td>6</td>\n",
       "      <td>1</td>\n",
       "      <td>1</td>\n",
       "      <td></td>\n",
       "      <td>1</td>\n",
       "      <td>1</td>\n",
       "      <td>1</td>\n",
       "      <td>1</td>\n",
       "    </tr>\n",
       "    <tr>\n",
       "      <th>2020</th>\n",
       "      <td>9</td>\n",
       "      <td>2</td>\n",
       "      <td>2</td>\n",
       "      <td>2</td>\n",
       "      <td>1</td>\n",
       "      <td>1</td>\n",
       "      <td>1</td>\n",
       "      <td>1</td>\n",
       "      <td>1</td>\n",
       "      <td>1</td>\n",
       "      <td>1</td>\n",
       "      <td></td>\n",
       "    </tr>\n",
       "  </tbody>\n",
       "</table>\n",
       "\n",
       "We note an early focus `pandas, sqlalchemy and \"impala\"`, each respectively demonstrates \n",
       "direct execution, expression generating, and string generating backends.\n",
       "Improvements were made to these key backends as clickhouse, spark, and postgres. Recently, \n",
       "Quansight in partnership with OmniSci, added the `ibis.omniscidb` string generating backend.\n",
       "This work pushed `ibis`'s functionality to geospational data.\n",
       "\n",
       "> Currently, there is an ongoing effort to a [SQL Server][sql-server] support. What backends what you like to\n",
       "see? `dask`? `altair`?\n",
       "    \n",
       "[ibis]: https://www.ibis-project.org/\n",
       "[SQL]: https://en.wikipedia.org/wiki/SQL\n",
       "[Python]: https://en.wikipedia.org/wiki/Python_(programming_language)\n",
       "[flavor of sql]: https://stackoverflow.com/questions/1326318/difference-between-different-types-of-sql\n",
       "[design]: https://docs.ibis-project.org/design.html\n",
       "[sqlite]: https://www.sqlite.org/index.html\n",
       "[pandas]: http://pandas.pydata.org/\n",
       "[omnisci]: https://www.omnisci.com/\n",
       "[glue]: https://docs.scipy.org/doc/numpy/user/c-info.python-as-glue.html\n",
       "[dask]: https://dask.org/\n",
       "[flavor of sql]: https://stackoverflow.com/questions/1326318/difference-between-different-types-of-sql\n",
       "[dag]: https://en.wikipedia.org/wiki/Directed_acyclic_graph\n",
       "[data]: http://www.seanlahman.com/baseball-archive/statistics/    \n",
       "[database connection]: https://en.wikipedia.org/wiki/Database_connection\n",
       "[tidy data]: https://vita.had.co.nz/papers/tidy-data.pdf\n",
       "[openteams]: https://openteams.com/\n",
       "[contributing]: https://docs.ibis-project.org/contributing.html\n",
       "[qs]: https://www.quansight.com/\n",
       "[graphviz]: https://graphviz.org\n",
       "[materialized view]: https://en.wikipedia.org/wiki/Materialized_view\n",
       "[blaze]: #\n",
       "[sqlalchemy]: #\n",
       "[backends]: #\n",
       "[intake]: #\n",
       "[arrow]: #\n",
       "[labs-post]: https://labs.quansight.org/blog/2019/07/ibis-python-data-analysis-productivity-framework/\n",
       "[geo-tutorial]: https://github.com/ibis-project/ibis/pull/1991\n",
       "[geo-closed]: https://github.com/ibis-project/ibis/issues?q=label%3Ageospatial+is%3Aclosed\n",
       "[sql-server]: https://github.com/ibis-project/ibis/pull/1997"
      ],
      "text/plain": [
       "<IPython.core.display.Markdown object>"
      ]
     },
     "metadata": {},
     "output_type": "display_data"
    }
   ],
   "source": [
    "## A data-driven history of `ibis` compatability.\n",
    "\n",
    "The table below provides an annual looked at the issues tagged in `ibis` for different backends.\n",
    "\n",
    "{{over_time.to_html()}}\n",
    "\n",
    "We note an early focus `pandas, sqlalchemy and \"impala\"`, each respectively demonstrates \n",
    "direct execution, expression generating, and string generating backends.\n",
    "Improvements were made to these key backends as clickhouse, spark, and postgres. Recently, \n",
    "Quansight in partnership with OmniSci, added the `ibis.omniscidb` string generating backend.\n",
    "This work pushed `ibis`'s functionality to geospational data.\n",
    "\n",
    "> Currently, there is an ongoing effort to a [SQL Server][sql-server] support. What backends what you like to\n",
    "see? `dask`? `altair`?\n",
    "    \n",
    "{{refs}}"
   ]
  },
  {
   "cell_type": "code",
   "execution_count": 16,
   "metadata": {},
   "outputs": [
    {
     "data": {
      "text/markdown": [
       "### `ibis` direct execution.\n",
       "\n",
       "`ibis` direct execution backends like `pandas and hdf5` operate on conventional in-memory python objects.\n",
       "`pandas` is the gold standard for structured data in python, and inspires the api for `ibis`.\n",
       "\n",
       "    pd = ibis.pandas.connect({'A': pandas.util.testing.makeDataFrame()})\n",
       "    \n",
       "`pd` is an `ibis` backend based off `pandas.DataFrame` objects.\n",
       "\n",
       "    expression = pd.table('A').head()\n",
       "    \n",
       "`expression` is an `ibis` query, that has `expression.compile` and `expression.execute` methods.\n",
       "We'll recognize the __execute__ method when we return `pandas.DataFrame`s from `ibis` expression.\n",
       "The __compile__ method does not trigger any computation, rather it constructs an intermediate form\n",
       "that is interpretted by a backend.\n",
       "\n",
       "    >>> assert isinstance(expression.compile(), ibis.expr.types.TableExpr)\n",
       "    \n",
       "In the case of direction execution backends, the `expression` combiles to an the original `ibis` \n",
       "expression.  And the computation is carried out based on a set of recipes defined in `ibis`.\n",
       "\n",
       "Why would I use `ibis` instead of `pandas`?"
      ],
      "text/plain": [
       "<IPython.core.display.Markdown object>"
      ]
     },
     "metadata": {},
     "output_type": "display_data"
    }
   ],
   "source": [
    "### `ibis` direct execution.\n",
    "\n",
    "`ibis` direct execution backends like `pandas and hdf5` operate on conventional in-memory python objects.\n",
    "`pandas` is the gold standard for structured data in python, and inspires the api for `ibis`.\n",
    "\n",
    "    pd = ibis.pandas.connect({'A': pandas.util.testing.makeDataFrame()})\n",
    "    \n",
    "`pd` is an `ibis` backend based off `pandas.DataFrame` objects.\n",
    "\n",
    "    expression = pd.table('A').head()\n",
    "    \n",
    "`expression` is an `ibis` query, that has `expression.compile` and `expression.execute` methods.\n",
    "We'll recognize the __execute__ method when we return `pandas.DataFrame`s from `ibis` expression.\n",
    "The __compile__ method does not trigger any computation, rather it constructs an intermediate form\n",
    "that is interpretted by a backend.\n",
    "\n",
    "    >>> assert isinstance(expression.compile(), ibis.expr.types.TableExpr)\n",
    "    \n",
    "In the case of direction execution backends, the `expression` combiles to an the original `ibis` \n",
    "expression.  And the computation is carried out based on a set of recipes defined in `ibis`.\n",
    "\n",
    "Why would I use `ibis` instead of `pandas`?"
   ]
  },
  {
   "cell_type": "code",
   "execution_count": 17,
   "metadata": {},
   "outputs": [
    {
     "data": {
      "text/markdown": [
       "## `ibis` expression generating backends.\n",
       "\n",
       "    db = ibis.sqlite.connect('lahmansbaseballdb.sqlite')\n",
       "    expression = db.table('halloffame').head()\n",
       "    \n",
       "Expression generating backends operate on [SQL] databases that interoperator with `sqlalchemy`.\n",
       "\n",
       "    >>> assert isinstance(expression.compile(), sqlalchemy.sql.Select)\n",
       "    \n",
       "In the case of expression generating backends, the intermediate representation is a `sqlalchemy` object.\n",
       "    \n",
       "[ibis]: https://www.ibis-project.org/\n",
       "[SQL]: https://en.wikipedia.org/wiki/SQL\n",
       "[Python]: https://en.wikipedia.org/wiki/Python_(programming_language)\n",
       "[flavor of sql]: https://stackoverflow.com/questions/1326318/difference-between-different-types-of-sql\n",
       "[design]: https://docs.ibis-project.org/design.html\n",
       "[sqlite]: https://www.sqlite.org/index.html\n",
       "[pandas]: http://pandas.pydata.org/\n",
       "[omnisci]: https://www.omnisci.com/\n",
       "[glue]: https://docs.scipy.org/doc/numpy/user/c-info.python-as-glue.html\n",
       "[dask]: https://dask.org/\n",
       "[flavor of sql]: https://stackoverflow.com/questions/1326318/difference-between-different-types-of-sql\n",
       "[dag]: https://en.wikipedia.org/wiki/Directed_acyclic_graph\n",
       "[data]: http://www.seanlahman.com/baseball-archive/statistics/    \n",
       "[database connection]: https://en.wikipedia.org/wiki/Database_connection\n",
       "[tidy data]: https://vita.had.co.nz/papers/tidy-data.pdf\n",
       "[openteams]: https://openteams.com/\n",
       "[contributing]: https://docs.ibis-project.org/contributing.html\n",
       "[qs]: https://www.quansight.com/\n",
       "[graphviz]: https://graphviz.org\n",
       "[materialized view]: https://en.wikipedia.org/wiki/Materialized_view\n",
       "[blaze]: #\n",
       "[sqlalchemy]: #\n",
       "[backends]: #\n",
       "[intake]: #\n",
       "[arrow]: #\n",
       "[labs-post]: https://labs.quansight.org/blog/2019/07/ibis-python-data-analysis-productivity-framework/\n",
       "[geo-tutorial]: https://github.com/ibis-project/ibis/pull/1991\n",
       "[geo-closed]: https://github.com/ibis-project/ibis/issues?q=label%3Ageospatial+is%3Aclosed\n",
       "[sql-server]: https://github.com/ibis-project/ibis/pull/1997"
      ],
      "text/plain": [
       "<IPython.core.display.Markdown object>"
      ]
     },
     "metadata": {},
     "output_type": "display_data"
    }
   ],
   "source": [
    "## `ibis` expression generating backends.\n",
    "\n",
    "    db = ibis.sqlite.connect('lahmansbaseballdb.sqlite')\n",
    "    expression = db.table('halloffame').head()\n",
    "    \n",
    "Expression generating backends operate on [SQL] databases that interoperator with `sqlalchemy`.\n",
    "\n",
    "    >>> assert isinstance(expression.compile(), sqlalchemy.sql.Select)\n",
    "    \n",
    "In the case of expression generating backends, the intermediate representation is a `sqlalchemy` object.\n",
    "    \n",
    "{{refs}}"
   ]
  },
  {
   "cell_type": "code",
   "execution_count": 18,
   "metadata": {},
   "outputs": [
    {
     "data": {
      "text/markdown": [
       "## `ibis` string generating backends.\n",
       "\n",
       "```bash\n",
       "pip install --upgrade ibis-framework[omniscidb]\n",
       "```\n",
       "\n",
       "String generating backends allow `ibis` to interface with big data systems that manage their own computation.\n",
       "    \n",
       "    omnisci = ibis.omniscidb.connect(host='metis.omnisci.com', user='demouser', password='HyperInteractive', port=443, database='omnisci', protocol='https')\n",
       "    \n",
       "`omnisci` is described as a string generating backend because the intermediate representation of the\n",
       "query is a flavor of SQL.\n",
       "\n",
       "    expression = omnisci.table('upstream_reservoir').head()\n",
       "    \n",
       "    >>> assert isinstance(expression.compile(), str)\n",
       "\n",
       "Checkout out the heroic PR by @xmnlab\n",
       "Mention the labs post here."
      ],
      "text/plain": [
       "<IPython.core.display.Markdown object>"
      ]
     },
     "metadata": {},
     "output_type": "display_data"
    }
   ],
   "source": [
    "## `ibis` string generating backends.\n",
    "\n",
    "```bash\n",
    "pip install --upgrade ibis-framework[omniscidb]\n",
    "```\n",
    "\n",
    "String generating backends allow `ibis` to interface with big data systems that manage their own computation.\n",
    "    \n",
    "    omnisci = ibis.omniscidb.connect(host='metis.omnisci.com', user='demouser', password='HyperInteractive', port=443, database='omnisci', protocol='https')\n",
    "    \n",
    "`omnisci` is described as a string generating backend because the intermediate representation of the\n",
    "query is a flavor of SQL.\n",
    "\n",
    "    expression = omnisci.table('upstream_reservoir').head()\n",
    "    \n",
    "    >>> assert isinstance(expression.compile(), str)\n",
    "\n",
    "    \n",
    "Checkout out the heroic PR by @xmnlab\n",
    "Mention the labs post here."
   ]
  },
  {
   "cell_type": "code",
   "execution_count": 36,
   "metadata": {},
   "outputs": [
    {
     "data": {
      "text/markdown": [
       "## String generating backends.\n",
       "\n",
       "\n",
       "```bash\n",
       "pip install --upgrade ibis-framework[omniscidb]\n",
       "```\n",
       "\n",
       "Checkout out the heroic PR by @xmnlab\n",
       "\n",
       "Huge thanks to @cpcloud and @reback for their on going support.\n",
       "\n",
       "Omnisci backend\n",
       "\n",
       "    omnisci = ibis.omniscidb.connect(host='metis.omnisci.com', user='demouser', password='HyperInteractive', port=443, database='omnisci', protocol='https')\n",
       "\n",
       "    >>> assert isinstance(omnisci.table('upstream_reservoir').head().compile(), str)\n",
       "    \n",
       "    \n",
       "SQLServer backend"
      ],
      "text/plain": [
       "<IPython.core.display.Markdown object>"
      ]
     },
     "metadata": {},
     "output_type": "display_data"
    }
   ],
   "source": [
    "Huge thanks to @cpcloud and @reback for their on going support.\n",
    "\n",
    "Omnisci backend\n",
    "\n",
    "    \n",
    "\n",
    "    \n",
    "    \n",
    "    \n",
    "SQLServer backend"
   ]
  },
  {
   "cell_type": "code",
   "execution_count": 33,
   "metadata": {},
   "outputs": [
    {
     "data": {
      "text/markdown": [
       ".https://medium.com/@leventov/comparison-of-the-open-source-olap-systems-for-big-data-clickhouse-druid-and-pinot-8e042a5ed1c7"
      ],
      "text/plain": [
       "<IPython.core.display.Markdown object>"
      ]
     },
     "metadata": {},
     "output_type": "display_data"
    }
   ],
   "source": [
    ".https://medium.com/@leventov/comparison-of-the-open-source-olap-systems-for-big-data-clickhouse-druid-and-pinot-8e042a5ed1c7"
   ]
  },
  {
   "cell_type": "markdown",
   "metadata": {},
   "source": [
    "## Who is it for?\n",
    "\n",
    "## Why is it useful?\n",
    "\n",
    "## Why does it exist?\n",
    "\n",
    "## What can you learn?\n",
    "\n",
    "https://docs.sqlalchemy.org/en/13/core/tutorial.html"
   ]
  },
  {
   "cell_type": "code",
   "execution_count": null,
   "metadata": {},
   "outputs": [],
   "source": [
    "add geo stuff\n",
    "\n",
    "https://github.com/ibis-project/ibis/commit/8bb84bb362ab0768c48276406e263e1f6d122d52"
   ]
  },
  {
   "cell_type": "code",
   "execution_count": 13,
   "metadata": {},
   "outputs": [
    {
     "data": {
      "text/markdown": [
       "#https://github.com/ibis-project/ibis/blob/master/ibis/file/tests/test_hdf5.py"
      ],
      "text/plain": [
       "<IPython.core.display.Markdown object>"
      ]
     },
     "metadata": {},
     "output_type": "display_data"
    }
   ],
   "source": [
    "#https://github.com/ibis-project/ibis/blob/master/ibis/file/tests/test_hdf5.py\n"
   ]
  }
 ],
 "metadata": {
  "kernelspec": {
   "display_name": "pidgy 3",
   "language": "python",
   "name": "pidgy"
  },
  "language_info": {
   "codemirror_mode": {
    "name": "ipython",
    "version": 3
   },
   "file_extension": ".py",
   "mimetype": "text/x-python",
   "name": "python",
   "nbconvert_exporter": "python",
   "pygments_lexer": "ipython3",
   "version": "3.7.3"
  },
  "nikola": {
   "category": "",
   "date": "2020-04-03 12:23:13 UTC-04:00",
   "description": "",
   "link": "",
   "slug": "one-syntax-to-rule-all-the-backends",
   "tags": "",
   "title": "One syntax to rule all the backends",
   "type": "text"
  }
 },
 "nbformat": 4,
 "nbformat_minor": 4
}
