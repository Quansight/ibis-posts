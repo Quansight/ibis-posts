{
 "cells": [
  {
   "cell_type": "code",
   "execution_count": 2,
   "metadata": {},
   "outputs": [
    {
     "data": {
      "text/markdown": [
       "At Quansight, we' have a long relationship with OmniSci where we connect their database.\n",
       "Our work together has grown in to community support efforts.\n",
       "\n",
       "This document talks about a heroic pull request that adds the core Omnisci features to the Ibis database.\n",
       "\n",
       "https://www.omnisci.com/blog/scaling-pandas-to-the-billions-with-ibis-and-mapd"
      ],
      "text/plain": [
       "<IPython.core.display.Markdown object>"
      ]
     },
     "metadata": {},
     "output_type": "display_data"
    }
   ],
   "source": [
    "At Quansight, we' have a long relationship with OmniSci where we connect their database.\n",
    "Our work together has grown in to community support efforts.\n",
    "\n",
    "This document talks about a heroic pull request that adds the core Omnisci features to the Ibis database.\n",
    "\n",
    "https://www.omnisci.com/blog/scaling-pandas-to-the-billions-with-ibis-and-mapd"
   ]
  },
  {
   "cell_type": "code",
   "execution_count": null,
   "metadata": {},
   "outputs": [],
   "source": []
  }
 ],
 "metadata": {
  "kernelspec": {
   "display_name": "pidgy 3",
   "language": "python",
   "name": "pidgy"
  },
  "language_info": {
   "codemirror_mode": {
    "name": "ipython",
    "version": 3
   },
   "file_extension": ".py",
   "mimetype": "text/x-python",
   "name": "python",
   "nbconvert_exporter": "python",
   "pygments_lexer": "ipython3",
   "version": "3.7.3"
  }
 },
 "nbformat": 4,
 "nbformat_minor": 4
}
