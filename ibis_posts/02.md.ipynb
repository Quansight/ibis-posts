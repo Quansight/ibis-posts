{
 "cells": [
  {
   "cell_type": "code",
   "execution_count": 2,
   "metadata": {},
   "outputs": [
    {
     "data": {
      "text/markdown": [
       "# `ibis` - One Pythonic SQL to rule them all.\n",
       "    \n",
       "    import ibis\n",
       "\n",
       "Sometimes, in SQL, expressions are different for databases. For example, \n",
       "the GPU OmniSci database has different features than standard SQL."
      ],
      "text/plain": [
       "<IPython.core.display.Markdown object>"
      ]
     },
     "metadata": {},
     "output_type": "display_data"
    }
   ],
   "source": [
    "# `ibis` - One Pythonic SQL to rule them all.\n",
    "    \n",
    "    import ibis\n",
    "\n",
    "Sometimes, in SQL, expressions are different for databases. For example, \n",
    "the GPU OmniSci database has different features than standard SQL."
   ]
  }
 ],
 "metadata": {
  "kernelspec": {
   "display_name": "pidgy 3",
   "language": "python",
   "name": "pidgy"
  },
  "language_info": {
   "codemirror_mode": {
    "name": "ipython",
    "version": 3
   },
   "file_extension": ".py",
   "mimetype": "text/x-python",
   "name": "python",
   "nbconvert_exporter": "python",
   "pygments_lexer": "ipython3",
   "version": "3.7.3"
  }
 },
 "nbformat": 4,
 "nbformat_minor": 4
}
